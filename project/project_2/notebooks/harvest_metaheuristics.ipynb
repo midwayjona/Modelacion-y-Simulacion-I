{
  "cells": [
    {
      "cell_type": "markdown",
      "metadata": {},
      "source": [
        "# Programa de Cosecha • Metaheurísticas (GA, SA, TS)\n",
        "\n",
        "Este notebook ejecuta el flujo completo: generación de datos, evaluación y las tres metaheurísticas.\n",
        "El costo que se grafica es el **costo penalizado a minimizar**, por lo que **debe disminuir**."
      ]
    },
    {
      "cell_type": "code",
      "execution_count": null,
      "metadata": {},
      "outputs": [],
      "source": [
        "import sys\n",
        "from pathlib import Path\n",
        "# Asegura que el directorio del proyecto (padre de 'notebooks/') esté en sys.path\n",
        "PROJECT_ROOT = Path.cwd().resolve().parent\n",
        "if str(PROJECT_ROOT) not in sys.path:\n",
        "    sys.path.insert(0, str(PROJECT_ROOT))\n"
      ]
    },
    {
      "cell_type": "code",
      "execution_count": null,
      "metadata": {},
      "outputs": [],
      "source": [
        "from pathlib import Path\n",
        "import numpy as np\n",
        "import pandas as pd\n",
        "import matplotlib.pyplot as plt\n",
        "\n",
        "from core.model import generate_problem, evaluate, greedy_baseline\n",
        "from core.ga import run_ga\n",
        "from core.sa import run_sa\n",
        "from core.tabu import run_tabu\n",
        "from core.utils import plot_convergence\n",
        "\n",
        "ARTIFACTS = Path('../artifacts')\n",
        "ARTIFACTS.mkdir(parents=True, exist_ok=True)"
      ]
    },
    {
      "cell_type": "markdown",
      "metadata": {},
      "source": [
        "## 1) Parámetros del problema"
      ]
    },
    {
      "cell_type": "code",
      "execution_count": null,
      "metadata": {},
      "outputs": [],
      "source": [
        "seed = 42\n",
        "N = 80\n",
        "workers = 10\n",
        "K = 3\n",
        "C = 1800\n",
        "\n",
        "problem = generate_problem(N=N, workers=workers, K=K, C=C, seed=seed)\n",
        "df = pd.DataFrame({\n",
        "    'parcela': np.arange(problem.N, dtype=int),\n",
        "    'Vi_kg': problem.V.astype(int),\n",
        "    'Pi_horas': problem.P.astype(float),\n",
        "    'ratio_Vi_Pi': (problem.V / np.maximum(problem.P, 1e-9))\n",
        "})\n",
        "df.head()"
      ]
    },
    {
      "cell_type": "markdown",
      "metadata": {},
      "source": [
        "## 2) Baseline greedy y evaluación"
      ]
    },
    {
      "cell_type": "code",
      "execution_count": null,
      "metadata": {},
      "outputs": [],
      "source": [
        "xg = greedy_baseline(problem)\n",
        "ev_g = evaluate(problem, xg)\n",
        "ev_g"
      ]
    },
    {
      "cell_type": "markdown",
      "metadata": {},
      "source": [
        "## 3) Algoritmo Genético (GA)"
      ]
    },
    {
      "cell_type": "code",
      "execution_count": null,
      "metadata": {},
      "outputs": [],
      "source": [
        "ga_params = dict(pop=80, gens=300, pc=0.8, pm=0.02, elite=1, tournament_k=3)\n",
        "ga_res = run_ga(problem, ga_params, seed=seed)\n",
        "fig, _ = plot_convergence(ga_res.history_best_cost, 'GA: Convergencia (Costo penalizado)', 'Generación')\n",
        "fig.savefig(ARTIFACTS / 'ga_convergence.png', dpi=150)\n",
        "evaluate(problem, ga_res.best_X)"
      ]
    },
    {
      "cell_type": "markdown",
      "metadata": {},
      "source": [
        "## 4) Recocido Simulado (SA)"
      ]
    },
    {
      "cell_type": "code",
      "execution_count": null,
      "metadata": {},
      "outputs": [],
      "source": [
        "sa_params = dict(T0=1.0, Tend=1e-3, iters=N*300, alpha=0.99)\n",
        "sa_res = run_sa(problem, sa_params, seed=seed)\n",
        "fig, _ = plot_convergence(sa_res.history_best_cost, 'SA: Convergencia (Costo penalizado)', 'Iteración')\n",
        "fig.savefig(ARTIFACTS / 'sa_convergence.png', dpi=150)\n",
        "evaluate(problem, sa_res.best_X)"
      ]
    },
    {
      "cell_type": "markdown",
      "metadata": {},
      "source": [
        "## 5) Búsqueda Tabú (TS)"
      ]
    },
    {
      "cell_type": "code",
      "execution_count": null,
      "metadata": {},
      "outputs": [],
      "source": [
        "ts_params = dict(iters=N*300, tabu_size=int(np.ceil(0.1*N)), consider_all=True)\n",
        "ts_res = run_tabu(problem, ts_params, seed=seed)\n",
        "fig, _ = plot_convergence(ts_res.history_best_cost, 'TS: Convergencia (Costo penalizado)', 'Iteración')\n",
        "fig.savefig(ARTIFACTS / 'ts_convergence.png', dpi=150)\n",
        "evaluate(problem, ts_res.best_X)"
      ]
    },
    {
      "cell_type": "markdown",
      "metadata": {},
      "source": [
        "## 6) Comparativa"
      ]
    },
    {
      "cell_type": "code",
      "execution_count": null,
      "metadata": {},
      "outputs": [],
      "source": [
        "rows = []\n",
        "for name, res, x in [\n",
        "    ('GA', ga_res, ga_res.best_X),\n",
        "    ('SA', sa_res, sa_res.best_X),\n",
        "    ('TS', ts_res, ts_res.best_X),\n",
        "]:\n",
        "    ev = evaluate(problem, x)\n",
        "    rows.append({\n",
        "        'algoritmo': name,\n",
        "        'Z': ev['Z'],\n",
        "        'hours_used': ev['hours_used'],\n",
        "        'kg_used': ev['kg_used'],\n",
        "        'feasible': ev['feasible_all'],\n",
        "        'best_cost': (res.history_best_cost[-1] if hasattr(res, 'history_best_cost') else None),\n",
        "    })\n",
        "comp_df = pd.DataFrame(rows)\n",
        "comp_df"
      ]
    },
    {
      "cell_type": "markdown",
      "metadata": {},
      "source": [
        "## 7) Exportar resultados"
      ]
    },
    {
      "cell_type": "code",
      "execution_count": null,
      "metadata": {},
      "outputs": [],
      "source": [
        "best_name, best_res = max([('GA', ga_res), ('SA', sa_res), ('TS', ts_res)], key=lambda t: evaluate(problem, t[1].best_X)['Z'])\n",
        "best_x = best_res.best_X\n",
        "df_out = df.copy()\n",
        "df_out['X'] = best_x\n",
        "df_out.to_csv(ARTIFACTS / 'best_solution.csv', index=False)\n",
        "(best_name, evaluate(problem, best_x))"
      ]
    },
    {
      "cell_type": "markdown",
      "metadata": {},
      "source": [
        "## 8) Conclusiones breves"
      ]
    },
    {
      "cell_type": "markdown",
      "metadata": {},
      "source": [
        "- Se compararon GA, SA y TS sobre un dataset reproducible.\n",
        "- Se observó descenso del costo penalizado en las tres técnicas, con variaciones en velocidad de convergencia.\n",
        "- El mejor algoritmo para este dataset es el que obtuvo mayor **Z** factible (ver tabla comparativa); puede variar con `seed`."
      ]
    }
  ],
  "metadata": {
    "kernelspec": {
      "display_name": "Python 3",
      "language": "python",
      "name": "python3"
    },
    "language_info": {
      "name": "python",
      "version": "3.11"
    }
  },
  "nbformat": 4,
  "nbformat_minor": 5
}