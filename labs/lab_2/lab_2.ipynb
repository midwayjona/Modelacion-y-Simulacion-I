{
 "cells": [
  {
   "cell_type": "markdown",
   "id": "b7549ab4",
   "metadata": {},
   "source": [
    "# Laboratorio 2 – Simulación de Montecarlo\n",
    "\n",
    "Este laboratorio aplica **Simulación de Montecarlo** para resolver dos problemas distintos:\n",
    "\n",
    "1. **Planeación de ahorro universitario**  \n",
    "   Modelar el crecimiento de un fondo de ahorro a lo largo de 17 años con aportes anuales fijos y rendimientos variables siguiendo una distribución normal. Se busca estimar resultados promedio, escenarios extremos y comportamiento del ahorro en el tiempo.\n",
    "\n",
    "2. **Optimización de presupuesto publicitario**  \n",
    "   Usar datos históricos de inversión en TV, Radio y Periódico para construir un modelo de regresión que relacione la inversión con las ventas. Posteriormente, simular distintas combinaciones de inversión para identificar la estrategia que maximice las ventas.\n",
    "\n",
    "El desarrollo se realizará en **Python** mediante un **Jupyter Notebook** y se complementará con una **aplicación en Streamlit** para visualizar e interactuar con los resultados."
   ]
  },
  {
   "cell_type": "markdown",
   "id": "d095a0b3",
   "metadata": {},
   "source": [
    "## Ejercicio 1 – Ahorro Universitario con Rendimiento Variable\n",
    "\n",
    "**Objetivo:**  \n",
    "Modelar y simular el crecimiento de un fondo de ahorro durante 17 años para determinar la probabilidad de alcanzar una meta financiera de **$500,000**.\n",
    "\n",
    "**Escenario planteado:**  \n",
    "- Juan y Juana Doe aportarán **$20,000** al inicio de cada año.  \n",
    "- La tasa de rendimiento anual sigue una **distribución normal** con:\n",
    "  - Media: 4% (0.04)\n",
    "  - Desviación estándar: 10% (0.10)\n",
    "- Cada simulación debe generar 17 rendimientos anuales independientes.\n",
    "- Se realizarán al menos **1,000 simulaciones**.\n",
    "\n",
    "**Resultados esperados:**\n",
    "1. Rendimiento promedio total al final de los 17 años.\n",
    "2. Monto promedio acumulado al final de los 17 años.\n",
    "3. Escenario pesimista y escenario optimista.\n",
    "4. Gráficas:\n",
    "   - Rendimientos obtenidos por año.\n",
    "   - Monto ahorrado por año.\n",
    "   - Monto acumulado por año.\n",
    "\n",
    "**Método sugerido:**\n",
    "- Utilizar **Simulación de Montecarlo** para modelar el crecimiento año a año.\n",
    "- Generar tasas aleatorias de rendimiento en cada simulación.\n",
    "- Acumular el monto considerando aportes + rendimiento compuesto."
   ]
  },
  {
   "cell_type": "code",
   "execution_count": null,
   "id": "6cf76a2f",
   "metadata": {
    "vscode": {
     "languageId": "plaintext"
    }
   },
   "outputs": [],
   "source": []
  }
 ],
 "metadata": {
  "kernelspec": {
   "display_name": "base",
   "language": "python",
   "name": "python3"
  },
  "language_info": {
   "name": "python",
   "version": "3.12.4"
  }
 },
 "nbformat": 4,
 "nbformat_minor": 5
}
