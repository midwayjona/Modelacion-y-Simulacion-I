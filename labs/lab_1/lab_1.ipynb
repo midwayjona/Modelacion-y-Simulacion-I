{
 "cells": [
  {
   "cell_type": "markdown",
   "id": "c55f4d72-293e-4e54-9c54-08f0e6da1043",
   "metadata": {},
   "source": [
    "# Laboratorio 1 – The Birthday Paradox\n",
    "\n",
    "En este laboratorio, exploraremos la **Paradoja del Cumpleaños**, un fenómeno probabilístico que muestra cómo en un grupo relativamente pequeño de personas es sorprendentemente alta la probabilidad de que al menos dos compartan el mismo cumpleaños.  \n",
    "\n",
    "Utilizando **simulación en Python**, analizaremos diferentes escenarios con tamaños de grupo y coincidencias específicas, aplicando técnicas de muestreo y funciones probabilísticas para estimar estas probabilidades de forma experimental.  \n",
    "\n",
    "El objetivo es comprender cómo la simulación permite aproximar resultados teóricos y visualizar comportamientos contraintuitivos de la probabilidad en situaciones del mundo real."
   ]
  },
  {
   "cell_type": "markdown",
   "id": "dd787478-3047-4f5f-939c-dc20b67362f9",
   "metadata": {},
   "source": [
    "### Cálculo Teórico de la Probabilidad (para n=2)\n",
    "\n",
    "Antes de realizar simulaciones, calcularemos la probabilidad teórica de que, en un grupo de \\(N\\) personas, **al menos dos compartan el mismo cumpleaños**.\n",
    "\n",
    "La probabilidad se calcula usando la probabilidad complementaria:\n",
    "\n",
    "$$\n",
    "P(\\text{al menos 2 comparten}) = 1 - P(\\text{todos diferentes})\n",
    "$$\n",
    "\n",
    "Donde:\n",
    "\n",
    "$$\n",
    "P(\\text{todos diferentes}) =\n",
    "\\frac{364}{364} \\times \\frac{363}{364} \\times \\frac{362}{364} \\times \\dots \\times\n",
    "\\frac{364 - (N-1)}{364}\n",
    "$$\n",
    "\n",
    "Esta fórmula es útil para comparar resultados teóricos, pero solo aplica directamente cuando buscamos la probabilidad de que **al menos 2 personas compartan cumpleaños (n=2)**.  \n",
    "Para valores de \\(n > 2\\), utilizaremos simulaciones de Montecarlo."
   ]
  },
  {
   "cell_type": "code",
   "execution_count": 77,
   "id": "ad175f5d-3e25-4512-8c38-e9b1c9c50bf8",
   "metadata": {},
   "outputs": [
    {
     "name": "stdout",
     "output_type": "stream",
     "text": [
      "Probabilidad teórica (N=23, n=2): 0.5083\n"
     ]
    }
   ],
   "source": [
    "from math import prod\n",
    "\n",
    "def theoretical_birthday_probability(N: int) -> float:\n",
    "    \"\"\"\n",
    "    Calcula la probabilidad teórica de que al menos dos personas compartan cumpleaños,\n",
    "    para un grupo de N personas (n=2).\n",
    "    Año asumido con 364 días.\n",
    "    \"\"\"\n",
    "    days = 364\n",
    "    \n",
    "    if N > days:  # Si hay más personas que días, la probabilidad es 1\n",
    "        return 1.0\n",
    "    \n",
    "    # Probabilidad de que todos tengan cumpleaños distintos\n",
    "    prob_all_different = prod((days - i) / days for i in range(N))\n",
    "    \n",
    "    # Probabilidad complementaria (al menos 2 comparten)\n",
    "    return 1 - prob_all_different\n",
    "\n",
    "# Ejemplo: probabilidad para 23 personas\n",
    "p_20 = theoretical_birthday_probability(23)\n",
    "print(f\"Probabilidad teórica (N=23, n=2): {p_20:.4f}\")"
   ]
  },
  {
   "cell_type": "markdown",
   "id": "ed15917a-a6ce-4480-bff7-d688716f478e",
   "metadata": {},
   "source": [
    "### Simulación por Montecarlo (para cualquier n)\n",
    "\n",
    "Para calcular la probabilidad de que, en un grupo de \\(N\\) personas, **al menos \\(n\\) de ellas compartan cumpleaños**, utilizaremos un enfoque de simulación de Montecarlo.\n",
    "\n",
    "### Pasos de la simulación:\n",
    "1. Generar cumpleaños aleatorios para \\(N\\) personas, asumiendo un año con 364 días.\n",
    "2. Contar cuántas veces ocurre cada día.\n",
    "3. Verificar si al menos un día tiene \\(n\\) o más coincidencias.\n",
    "4. Estimar la probabilidad como:\n",
    "\n",
    "$$\n",
    "P(\\text{coincidencia}) \\approx \\frac{\\text{Número de simulaciones con coincidencia}}{\\text{Número total de simulaciones}}\n",
    "$$\n",
    "\n",
    "Esta simulación funciona para cualquier combinación de \\(N\\) y \\(n\\)."
   ]
  },
  {
   "cell_type": "code",
   "execution_count": 91,
   "id": "07957ba3-573f-466f-ba0b-00ee6e207f91",
   "metadata": {},
   "outputs": [
    {
     "name": "stdout",
     "output_type": "stream",
     "text": [
      "Probabilidad simulada (N=23, n=2): 0.508284\n"
     ]
    }
   ],
   "source": [
    "import numpy as np\n",
    "\n",
    "def simulate_birthday_paradox(N: int, n: int, trials: int = 10000, seed: int = None) -> float:\n",
    "    \"\"\"\n",
    "    Simula The Birthday Paradox para un grupo de N personas y calcula\n",
    "    la probabilidad de que al menos n personas compartan el mismo cumpleaños.\n",
    "    \n",
    "    Parámetros:\n",
    "    - N: número de personas\n",
    "    - n: número mínimo de personas que deben compartir cumpleaños\n",
    "    - trials: número de simulaciones (default en 10,000)\n",
    "    - seed: valor opcional para reproducibilidad\n",
    "    \n",
    "    Retorna:\n",
    "    - Probabilidad estimada (float)\n",
    "    \"\"\"\n",
    "    if seed is not None:\n",
    "        np.random.seed(seed)\n",
    "    \n",
    "    days = 364\n",
    "    coincidences = 0\n",
    "    \n",
    "    for _ in range(trials):\n",
    "        # Genera cumpleaños aleatorios para N personas (1 a 364)\n",
    "        birthdays = np.random.randint(1, days + 1, size=N)\n",
    "        \n",
    "        # Cuenta ocurrencias por día\n",
    "        counts = np.bincount(birthdays)\n",
    "        \n",
    "        # Verifica si algún día tiene al menos n personas\n",
    "        if np.any(counts >= n):\n",
    "            coincidences += 1\n",
    "    \n",
    "    return coincidences / trials\n",
    "\n",
    "# Ejemplo: simular para N=23, n=2\n",
    "p_sim = simulate_birthday_paradox(N=23, n=2, trials=500000, seed=42)\n",
    "print(f\"Probabilidad simulada (N=23, n=2): {p_sim:.6f}\")"
   ]
  },
  {
   "cell_type": "markdown",
   "id": "6f4d6e12-7ee6-4118-b1ef-3adf8d18eb25",
   "metadata": {},
   "source": [
    "### Resultados de los Escenarios del Laboratorio\n",
    "\n",
    "A continuación, ejecutaremos las simulaciones para los cuatro escenarios definidos en la guía:\n",
    "\n",
    "1. \\(N = 20\\), \\(n = 2\\)  \n",
    "2. \\(N = 200\\), \\(n = 2\\)  \n",
    "3. \\(N = 100\\), \\(n = 3\\)  \n",
    "4. \\(N = 1000\\), \\(n = 10\\)  \n",
    "\n",
    "Mostraremos los resultados en una tabla que incluya la probabilidad simulada y, para los casos con \\(n=2\\), también la probabilidad teórica."
   ]
  },
  {
   "cell_type": "code",
   "execution_count": 93,
   "id": "8c6a731c-7ec6-4f40-a94f-227dd8af8a48",
   "metadata": {},
   "outputs": [
    {
     "data": {
      "text/html": [
       "<div>\n",
       "<style scoped>\n",
       "    .dataframe tbody tr th:only-of-type {\n",
       "        vertical-align: middle;\n",
       "    }\n",
       "\n",
       "    .dataframe tbody tr th {\n",
       "        vertical-align: top;\n",
       "    }\n",
       "\n",
       "    .dataframe thead th {\n",
       "        text-align: right;\n",
       "    }\n",
       "</style>\n",
       "<table border=\"1\" class=\"dataframe\">\n",
       "  <thead>\n",
       "    <tr style=\"text-align: right;\">\n",
       "      <th></th>\n",
       "      <th>N</th>\n",
       "      <th>n</th>\n",
       "      <th>Probabilidad Simulada</th>\n",
       "      <th>Probabilidad Teórica (si n=2)</th>\n",
       "    </tr>\n",
       "  </thead>\n",
       "  <tbody>\n",
       "    <tr>\n",
       "      <th>0</th>\n",
       "      <td>20</td>\n",
       "      <td>2</td>\n",
       "      <td>0.411830</td>\n",
       "      <td>0.412311</td>\n",
       "    </tr>\n",
       "    <tr>\n",
       "      <th>1</th>\n",
       "      <td>200</td>\n",
       "      <td>2</td>\n",
       "      <td>1.000000</td>\n",
       "      <td>1.0</td>\n",
       "    </tr>\n",
       "    <tr>\n",
       "      <th>2</th>\n",
       "      <td>100</td>\n",
       "      <td>3</td>\n",
       "      <td>0.646782</td>\n",
       "      <td>-</td>\n",
       "    </tr>\n",
       "    <tr>\n",
       "      <th>3</th>\n",
       "      <td>1000</td>\n",
       "      <td>10</td>\n",
       "      <td>0.184426</td>\n",
       "      <td>-</td>\n",
       "    </tr>\n",
       "    <tr>\n",
       "      <th>4</th>\n",
       "      <td>23</td>\n",
       "      <td>2</td>\n",
       "      <td>0.508284</td>\n",
       "      <td>0.508275</td>\n",
       "    </tr>\n",
       "    <tr>\n",
       "      <th>5</th>\n",
       "      <td>60</td>\n",
       "      <td>2</td>\n",
       "      <td>0.994250</td>\n",
       "      <td>0.99421</td>\n",
       "    </tr>\n",
       "  </tbody>\n",
       "</table>\n",
       "</div>"
      ],
      "text/plain": [
       "      N   n  Probabilidad Simulada Probabilidad Teórica (si n=2)\n",
       "0    20   2               0.411830                      0.412311\n",
       "1   200   2               1.000000                           1.0\n",
       "2   100   3               0.646782                             -\n",
       "3  1000  10               0.184426                             -\n",
       "4    23   2               0.508284                      0.508275\n",
       "5    60   2               0.994250                       0.99421"
      ]
     },
     "execution_count": 93,
     "metadata": {},
     "output_type": "execute_result"
    }
   ],
   "source": [
    "import pandas as pd\n",
    "\n",
    "# Definir escenarios del laboratorio\n",
    "scenarios = [\n",
    "    {\"N\": 20, \"n\": 2},\n",
    "    {\"N\": 200, \"n\": 2},\n",
    "    {\"N\": 100, \"n\": 3},\n",
    "    {\"N\": 1000, \"n\": 10},\n",
    "    {\"N\": 23, \"n\": 2},\n",
    "    {\"N\": 60, \"n\": 2}\n",
    "]\n",
    "\n",
    "results = []\n",
    "trials = 500000  # número de simulaciones por escenario\n",
    "\n",
    "for s in scenarios:\n",
    "    N, n = s[\"N\"], s[\"n\"]\n",
    "    sim_prob = simulate_birthday_paradox(N, n, trials=trials, seed=42)\n",
    "    \n",
    "    # Calcular probabilidad teórica solo si n=2\n",
    "    theoretical = theoretical_birthday_probability(N) if n == 2 else None\n",
    "    \n",
    "    results.append({\n",
    "        \"N\": N,\n",
    "        \"n\": n,\n",
    "        \"Probabilidad Simulada\": round(sim_prob, 6),\n",
    "        \"Probabilidad Teórica (si n=2)\": round(theoretical, 6) if theoretical is not None else \"-\"\n",
    "    })\n",
    "\n",
    "df_results = pd.DataFrame(results)\n",
    "df_results"
   ]
  },
  {
   "cell_type": "markdown",
   "id": "36663ac8-7b18-45e6-ade8-198713b0776f",
   "metadata": {},
   "source": [
    "### Comparación entre Probabilidad Teórica y Simulada (para n=2)\n",
    "\n",
    "Para entender mejor la naturaleza de la paradoja, compararemos las probabilidades teóricas y simuladas\n",
    "para diferentes valores de \\(N\\) (manteniendo \\(n = 2\\)).\n",
    "\n",
    "Esto nos permitirá visualizar cómo la simulación converge al resultado teórico conforme aumentamos\n",
    "el número de repeticiones y cómo la probabilidad crece con el tamaño del grupo."
   ]
  },
  {
   "cell_type": "code",
   "execution_count": 101,
   "id": "b4a2fbfe-914f-406b-b993-81304b6a60cb",
   "metadata": {},
   "outputs": [
    {
     "data": {
      "image/png": "[encoded data removed]",
      "text/plain": [
       "<Figure size 800x500 with 1 Axes>"
      ]
     },
     "metadata": {},
     "output_type": "display_data"
    }
   ],
   "source": [
    "import matplotlib.pyplot as plt\n",
    "\n",
    "# Valores de N para comparar (incrementos de 10 hasta 200)\n",
    "N_values = list(range(10, 20, 10))\n",
    "theoretical_probs = [theoretical_birthday_probability(N) for N in N_values]\n",
    "simulated_probs = [simulate_birthday_paradox(N, n=2, trials=500000, seed=1) for N in N_values]\n",
    "\n",
    "plt.figure(figsize=(8, 5))\n",
    "plt.plot(N_values, theoretical_probs, label=\"Teórica (n=2)\", linewidth=2)\n",
    "plt.scatter(N_values, simulated_probs, color=\"red\", alpha=0.6, label=\"Simulada (n=2)\")\n",
    "plt.title(\"Comparación Probabilidad Teórica vs. Simulada (n=2)\")\n",
    "plt.xlabel(\"Número de personas (N)\")\n",
    "plt.ylabel(\"Probabilidad de coincidencia\")\n",
    "plt.legend()\n",
    "plt.grid(alpha=0.3)\n",
    "plt.show()"
   ]
  },
  {
   "cell_type": "code",
   "execution_count": null,
   "id": "44e7fb3f-3e5a-45f0-a8f7-a114fa5aaa03",
   "metadata": {},
   "outputs": [],
   "source": []
  }
 ],
 "metadata": {
  "kernelspec": {
   "display_name": "Python 3 (ipykernel)",
   "language": "python",
   "name": "python3"
  },
  "language_info": {
   "codemirror_mode": {
    "name": "ipython",
    "version": 3
   },
   "file_extension": ".py",
   "mimetype": "text/x-python",
   "name": "python",
   "nbconvert_exporter": "python",
   "pygments_lexer": "ipython3",
   "version": "3.12.4"
  }
 },
 "nbformat": 4,
 "nbformat_minor": 5
}
