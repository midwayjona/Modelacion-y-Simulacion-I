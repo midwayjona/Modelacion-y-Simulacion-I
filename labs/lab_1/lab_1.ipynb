{
 "cells": [
  {
   "cell_type": "markdown",
   "id": "c55f4d72-293e-4e54-9c54-08f0e6da1043",
   "metadata": {},
   "source": [
    "# Lab 1"
   ]
  },
  {
   "cell_type": "code",
   "execution_count": null,
   "id": "dc1e49f2-2b77-40e2-b72e-f3bdd2efd84b",
   "metadata": {},
   "outputs": [],
   "source": []
  }
 ],
 "metadata": {
  "kernelspec": {
   "display_name": "Python 3 (ipykernel)",
   "language": "python",
   "name": "python3"
  },
  "language_info": {
   "codemirror_mode": {
    "name": "ipython",
    "version": 3
   },
   "file_extension": ".py",
   "mimetype": "text/x-python",
   "name": "python",
   "nbconvert_exporter": "python",
   "pygments_lexer": "ipython3",
   "version": "3.12.4"
  }
 },
 "nbformat": 4,
 "nbformat_minor": 5
}
